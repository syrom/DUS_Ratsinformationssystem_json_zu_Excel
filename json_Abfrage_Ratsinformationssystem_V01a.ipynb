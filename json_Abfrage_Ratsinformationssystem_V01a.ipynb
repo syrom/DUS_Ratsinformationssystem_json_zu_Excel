{
 "cells": [
  {
   "cell_type": "markdown",
   "metadata": {},
   "source": [
    "# Abfrage open data aus Ratsinformationssystem"
   ]
  },
  {
   "cell_type": "code",
   "execution_count": null,
   "metadata": {},
   "outputs": [],
   "source": []
  },
  {
   "cell_type": "code",
   "execution_count": 1,
   "metadata": {},
   "outputs": [],
   "source": [
    "import pandas as pd\n",
    "import requests\n",
    "import json"
   ]
  },
  {
   "cell_type": "code",
   "execution_count": null,
   "metadata": {},
   "outputs": [],
   "source": []
  },
  {
   "cell_type": "code",
   "execution_count": 2,
   "metadata": {},
   "outputs": [],
   "source": [
    "v_ris_url = 'https://ris-oparl.itk-rheinland.de/Oparl/bodies/0015'"
   ]
  },
  {
   "cell_type": "code",
   "execution_count": 3,
   "metadata": {},
   "outputs": [],
   "source": [
    "# get json for first level json-requeset to RIS"
   ]
  },
  {
   "cell_type": "code",
   "execution_count": 4,
   "metadata": {},
   "outputs": [],
   "source": [
    "response = requests.get(v_ris_url)"
   ]
  },
  {
   "cell_type": "code",
   "execution_count": 5,
   "metadata": {},
   "outputs": [],
   "source": [
    "d_response_json = response.json()"
   ]
  },
  {
   "cell_type": "code",
   "execution_count": 6,
   "metadata": {},
   "outputs": [
    {
     "name": "stdout",
     "output_type": "stream",
     "text": [
      "{'id': 'http://ris-oparl.itk-rheinland.de/Oparl/bodies/0015', 'type': 'https://schema.oparl.org/1.0/Body', 'system': 'http://ris-oparl.itk-rheinland.de/Oparl/system', 'shortName': 'Landeshauptstadt Düsseldorf', 'name': 'LHD0015', 'licenseValidSince': '2017-01-31T00:00:00+02:00', 'oparlSince': '2017-01-31T00:00:00+02:00', 'equivalent': [''], 'organization': 'http://ris-oparl.itk-rheinland.de/Oparl/bodies/0015/organizations', 'person': 'http://ris-oparl.itk-rheinland.de/Oparl/bodies/0015/people', 'meeting': 'http://ris-oparl.itk-rheinland.de/Oparl/bodies/0015/meetings', 'paper': 'http://ris-oparl.itk-rheinland.de/Oparl/bodies/0015/papers', 'created': '2017-01-31T00:00:00+02:00', 'modified': '2017-01-31T00:00:00+02:00'}\n"
     ]
    }
   ],
   "source": [
    "print(d_response_json)"
   ]
  },
  {
   "cell_type": "code",
   "execution_count": 7,
   "metadata": {},
   "outputs": [],
   "source": [
    "l_response_keys = list(d_response_json.keys())"
   ]
  },
  {
   "cell_type": "code",
   "execution_count": 8,
   "metadata": {},
   "outputs": [
    {
     "data": {
      "text/plain": [
       "['id',\n",
       " 'type',\n",
       " 'system',\n",
       " 'shortName',\n",
       " 'name',\n",
       " 'licenseValidSince',\n",
       " 'oparlSince',\n",
       " 'equivalent',\n",
       " 'organization',\n",
       " 'person',\n",
       " 'meeting',\n",
       " 'paper',\n",
       " 'created',\n",
       " 'modified']"
      ]
     },
     "execution_count": 8,
     "metadata": {},
     "output_type": "execute_result"
    }
   ],
   "source": [
    "l_response_keys"
   ]
  },
  {
   "cell_type": "markdown",
   "metadata": {},
   "source": [
    "# Get json-response for most important keys"
   ]
  },
  {
   "cell_type": "code",
   "execution_count": 9,
   "metadata": {},
   "outputs": [],
   "source": [
    "l_relevant_keys = l_response_keys[8:12]"
   ]
  },
  {
   "cell_type": "code",
   "execution_count": 10,
   "metadata": {},
   "outputs": [
    {
     "data": {
      "text/plain": [
       "['organization', 'person', 'meeting', 'paper']"
      ]
     },
     "execution_count": 10,
     "metadata": {},
     "output_type": "execute_result"
    }
   ],
   "source": [
    "l_relevant_keys # main pages with relevant information >> further info retrieve only necessary for these"
   ]
  },
  {
   "cell_type": "code",
   "execution_count": 11,
   "metadata": {},
   "outputs": [],
   "source": [
    "# take these keys that access the actual information pages, loop requests\n",
    "# to the corresponding URL (which is the value of the dict-entry) and write the\n",
    "# result to a list containing 4 \"response dictionaries\"\n",
    "\n",
    "# d_response_json.get('person')"
   ]
  },
  {
   "cell_type": "code",
   "execution_count": 12,
   "metadata": {},
   "outputs": [],
   "source": [
    "l_response_dicts = []"
   ]
  },
  {
   "cell_type": "code",
   "execution_count": 13,
   "metadata": {},
   "outputs": [],
   "source": [
    "for k in range(len(l_relevant_keys)):\n",
    "    v_url = d_response_json.get(l_relevant_keys[k])\n",
    "    response = requests.get(v_url)\n",
    "    d_json = response.json()\n",
    "    l_response_dicts.append(d_json)"
   ]
  },
  {
   "cell_type": "markdown",
   "metadata": {},
   "source": [
    "# Create & export data frame for all papers in RIS"
   ]
  },
  {
   "cell_type": "code",
   "execution_count": 14,
   "metadata": {},
   "outputs": [],
   "source": [
    "# l_response_dicts[3] # papers dictionary"
   ]
  },
  {
   "cell_type": "code",
   "execution_count": 15,
   "metadata": {},
   "outputs": [],
   "source": [
    "### building a data frame from all papers with selected information\n",
    "### Problem: no consistent data structure; not always all elements served (e.g. some records deleted)\n",
    "### so data frame has to be build up line by line from response data with corresponding checks"
   ]
  },
  {
   "cell_type": "code",
   "execution_count": 16,
   "metadata": {},
   "outputs": [
    {
     "data": {
      "text/html": [
       "<div>\n",
       "<style scoped>\n",
       "    .dataframe tbody tr th:only-of-type {\n",
       "        vertical-align: middle;\n",
       "    }\n",
       "\n",
       "    .dataframe tbody tr th {\n",
       "        vertical-align: top;\n",
       "    }\n",
       "\n",
       "    .dataframe thead th {\n",
       "        text-align: right;\n",
       "    }\n",
       "</style>\n",
       "<table border=\"1\" class=\"dataframe\">\n",
       "  <thead>\n",
       "    <tr style=\"text-align: right;\">\n",
       "      <th></th>\n",
       "      <th>PAPER_REFERENCE</th>\n",
       "      <th>PAPER_NAME</th>\n",
       "      <th>PAPER_TYPE</th>\n",
       "      <th>DATE</th>\n",
       "      <th>DOWNLOAD_URL</th>\n",
       "      <th>ID</th>\n",
       "    </tr>\n",
       "  </thead>\n",
       "  <tbody>\n",
       "  </tbody>\n",
       "</table>\n",
       "</div>"
      ],
      "text/plain": [
       "Empty DataFrame\n",
       "Columns: [PAPER_REFERENCE, PAPER_NAME, PAPER_TYPE, DATE, DOWNLOAD_URL, ID]\n",
       "Index: []"
      ]
     },
     "execution_count": 16,
     "metadata": {},
     "output_type": "execute_result"
    }
   ],
   "source": [
    "########## initiate empty output data frame defining only the column names\n",
    "l_keys_df_col_names = ['PAPER_REFERENCE', 'PAPER_NAME',  'PAPER_TYPE', 'DATE', 'DOWNLOAD_URL', 'ID']\n",
    "df_papers = pd.DataFrame(columns = l_keys_df_col_names)\n",
    "df_papers.head(5)"
   ]
  },
  {
   "cell_type": "code",
   "execution_count": 17,
   "metadata": {},
   "outputs": [],
   "source": [
    "### retrieving only the information on papers from the previous request list"
   ]
  },
  {
   "cell_type": "code",
   "execution_count": 18,
   "metadata": {},
   "outputs": [],
   "source": [
    "l_papers_json = l_response_dicts[3].get('data') # retrieve data for \"papers\"-key (index 3 in json-repsonse-list)"
   ]
  },
  {
   "cell_type": "code",
   "execution_count": 23,
   "metadata": {},
   "outputs": [],
   "source": [
    "# l_papers_json"
   ]
  },
  {
   "cell_type": "code",
   "execution_count": 20,
   "metadata": {},
   "outputs": [],
   "source": [
    "for p in range(len(l_papers_json)): # loop over the number of papers found in the response object\n",
    "    \n",
    "    if l_papers_json[p].get('deleted') != None:   # check if this is a \"deleted\" and thus empty entry\n",
    "        continue\n",
    "        \n",
    "    l_row_values =[]\n",
    "    l_row_values.append(l_papers_json[p].get('reference'))\n",
    "    l_row_values.append(l_papers_json[p].get('name'))\n",
    "    l_row_values.append(l_papers_json[p].get('paperType'))\n",
    "    l_row_values.append(l_papers_json[p].get('date'))\n",
    "    \n",
    "    l_aux_url = (l_papers_json[p].get('mainFile')) # accessUrl is packaged in seperate mainFile dictionary\n",
    "    l_row_values.append(l_aux_url.get('downloadUrl'))\n",
    "\n",
    "    l_row_values.append(l_papers_json[p].get('id'))\n",
    "    \n",
    "    # zipping key and value lists to dictionary and append as new row to df_out\n",
    "    d_new_row = dict(zip(l_keys_df_col_names, l_row_values))\n",
    "    # print(d_new_row)\n",
    "    df_papers = df_papers.append(d_new_row, ignore_index = True)"
   ]
  },
  {
   "cell_type": "code",
   "execution_count": 21,
   "metadata": {},
   "outputs": [
    {
     "data": {
      "text/html": [
       "<div>\n",
       "<style scoped>\n",
       "    .dataframe tbody tr th:only-of-type {\n",
       "        vertical-align: middle;\n",
       "    }\n",
       "\n",
       "    .dataframe tbody tr th {\n",
       "        vertical-align: top;\n",
       "    }\n",
       "\n",
       "    .dataframe thead th {\n",
       "        text-align: right;\n",
       "    }\n",
       "</style>\n",
       "<table border=\"1\" class=\"dataframe\">\n",
       "  <thead>\n",
       "    <tr style=\"text-align: right;\">\n",
       "      <th></th>\n",
       "      <th>PAPER_REFERENCE</th>\n",
       "      <th>PAPER_NAME</th>\n",
       "      <th>PAPER_TYPE</th>\n",
       "      <th>DATE</th>\n",
       "      <th>DOWNLOAD_URL</th>\n",
       "      <th>ID</th>\n",
       "    </tr>\n",
       "  </thead>\n",
       "  <tbody>\n",
       "    <tr>\n",
       "      <th>0</th>\n",
       "      <td>BV1/128/2020</td>\n",
       "      <td>Opernhaus Düsseldorf - Antrag der CDU-Fraktion</td>\n",
       "      <td>Antrag</td>\n",
       "      <td>2020-03-13</td>\n",
       "      <td>http://ris-oparl.itk-rheinland.de/Oparl/bodies...</td>\n",
       "      <td>http://ris-oparl.itk-rheinland.de/Oparl/bodies...</td>\n",
       "    </tr>\n",
       "    <tr>\n",
       "      <th>1</th>\n",
       "      <td>BV1/127/2020</td>\n",
       "      <td>Aufstellflächen für Zulieferfirmen im Quartier...</td>\n",
       "      <td>Antrag</td>\n",
       "      <td>2020-03-13</td>\n",
       "      <td>http://ris-oparl.itk-rheinland.de/Oparl/bodies...</td>\n",
       "      <td>http://ris-oparl.itk-rheinland.de/Oparl/bodies...</td>\n",
       "    </tr>\n",
       "    <tr>\n",
       "      <th>2</th>\n",
       "      <td>BV1/126/2020</td>\n",
       "      <td>Sonnenschutz im Hof der Jugendfreizeiteinricht...</td>\n",
       "      <td>Antrag</td>\n",
       "      <td>2020-03-13</td>\n",
       "      <td>http://ris-oparl.itk-rheinland.de/Oparl/bodies...</td>\n",
       "      <td>http://ris-oparl.itk-rheinland.de/Oparl/bodies...</td>\n",
       "    </tr>\n",
       "    <tr>\n",
       "      <th>3</th>\n",
       "      <td>BV6/062/2020</td>\n",
       "      <td>Bauunterhaltungsmittel 2020 - Teil B \"sonstige...</td>\n",
       "      <td>Bezirksvertretung Beschlussvorlage</td>\n",
       "      <td>2020-03-13</td>\n",
       "      <td>http://ris-oparl.itk-rheinland.de/Oparl/bodies...</td>\n",
       "      <td>http://ris-oparl.itk-rheinland.de/Oparl/bodies...</td>\n",
       "    </tr>\n",
       "    <tr>\n",
       "      <th>4</th>\n",
       "      <td>BV6/061/2020</td>\n",
       "      <td>Verfügungsmittel 2020 - Schulgarten Friedrich-...</td>\n",
       "      <td>Bezirksvertretung Beschlussvorlage</td>\n",
       "      <td>2020-03-13</td>\n",
       "      <td>http://ris-oparl.itk-rheinland.de/Oparl/bodies...</td>\n",
       "      <td>http://ris-oparl.itk-rheinland.de/Oparl/bodies...</td>\n",
       "    </tr>\n",
       "    <tr>\n",
       "      <th>5</th>\n",
       "      <td>BV1/124/2020</td>\n",
       "      <td>Status der Fernwärmebauarbeiten auf der Roßstr...</td>\n",
       "      <td>Anfrage</td>\n",
       "      <td>2020-03-13</td>\n",
       "      <td>http://ris-oparl.itk-rheinland.de/Oparl/bodies...</td>\n",
       "      <td>http://ris-oparl.itk-rheinland.de/Oparl/bodies...</td>\n",
       "    </tr>\n",
       "    <tr>\n",
       "      <th>6</th>\n",
       "      <td>BV1/123/2020</td>\n",
       "      <td>Vermeidung von weiterer Verschmutzung der Grün...</td>\n",
       "      <td>Antrag</td>\n",
       "      <td>2020-03-13</td>\n",
       "      <td>http://ris-oparl.itk-rheinland.de/Oparl/bodies...</td>\n",
       "      <td>http://ris-oparl.itk-rheinland.de/Oparl/bodies...</td>\n",
       "    </tr>\n",
       "    <tr>\n",
       "      <th>7</th>\n",
       "      <td>BV1/122/2020</td>\n",
       "      <td>Unterhaltung von Grundstücken und baulichen An...</td>\n",
       "      <td>Bezirksvertretung Beschlussvorlage</td>\n",
       "      <td>2020-03-16</td>\n",
       "      <td>http://ris-oparl.itk-rheinland.de/Oparl/bodies...</td>\n",
       "      <td>http://ris-oparl.itk-rheinland.de/Oparl/bodies...</td>\n",
       "    </tr>\n",
       "  </tbody>\n",
       "</table>\n",
       "</div>"
      ],
      "text/plain": [
       "  PAPER_REFERENCE                                         PAPER_NAME  \\\n",
       "0    BV1/128/2020     Opernhaus Düsseldorf - Antrag der CDU-Fraktion   \n",
       "1    BV1/127/2020  Aufstellflächen für Zulieferfirmen im Quartier...   \n",
       "2    BV1/126/2020  Sonnenschutz im Hof der Jugendfreizeiteinricht...   \n",
       "3    BV6/062/2020  Bauunterhaltungsmittel 2020 - Teil B \"sonstige...   \n",
       "4    BV6/061/2020  Verfügungsmittel 2020 - Schulgarten Friedrich-...   \n",
       "5    BV1/124/2020  Status der Fernwärmebauarbeiten auf der Roßstr...   \n",
       "6    BV1/123/2020  Vermeidung von weiterer Verschmutzung der Grün...   \n",
       "7    BV1/122/2020  Unterhaltung von Grundstücken und baulichen An...   \n",
       "\n",
       "                           PAPER_TYPE        DATE  \\\n",
       "0                              Antrag  2020-03-13   \n",
       "1                              Antrag  2020-03-13   \n",
       "2                              Antrag  2020-03-13   \n",
       "3  Bezirksvertretung Beschlussvorlage  2020-03-13   \n",
       "4  Bezirksvertretung Beschlussvorlage  2020-03-13   \n",
       "5                             Anfrage  2020-03-13   \n",
       "6                              Antrag  2020-03-13   \n",
       "7  Bezirksvertretung Beschlussvorlage  2020-03-16   \n",
       "\n",
       "                                        DOWNLOAD_URL  \\\n",
       "0  http://ris-oparl.itk-rheinland.de/Oparl/bodies...   \n",
       "1  http://ris-oparl.itk-rheinland.de/Oparl/bodies...   \n",
       "2  http://ris-oparl.itk-rheinland.de/Oparl/bodies...   \n",
       "3  http://ris-oparl.itk-rheinland.de/Oparl/bodies...   \n",
       "4  http://ris-oparl.itk-rheinland.de/Oparl/bodies...   \n",
       "5  http://ris-oparl.itk-rheinland.de/Oparl/bodies...   \n",
       "6  http://ris-oparl.itk-rheinland.de/Oparl/bodies...   \n",
       "7  http://ris-oparl.itk-rheinland.de/Oparl/bodies...   \n",
       "\n",
       "                                                  ID  \n",
       "0  http://ris-oparl.itk-rheinland.de/Oparl/bodies...  \n",
       "1  http://ris-oparl.itk-rheinland.de/Oparl/bodies...  \n",
       "2  http://ris-oparl.itk-rheinland.de/Oparl/bodies...  \n",
       "3  http://ris-oparl.itk-rheinland.de/Oparl/bodies...  \n",
       "4  http://ris-oparl.itk-rheinland.de/Oparl/bodies...  \n",
       "5  http://ris-oparl.itk-rheinland.de/Oparl/bodies...  \n",
       "6  http://ris-oparl.itk-rheinland.de/Oparl/bodies...  \n",
       "7  http://ris-oparl.itk-rheinland.de/Oparl/bodies...  "
      ]
     },
     "execution_count": 21,
     "metadata": {},
     "output_type": "execute_result"
    }
   ],
   "source": [
    "df_papers.head(10)"
   ]
  },
  {
   "cell_type": "code",
   "execution_count": null,
   "metadata": {},
   "outputs": [],
   "source": []
  },
  {
   "cell_type": "code",
   "execution_count": null,
   "metadata": {},
   "outputs": [],
   "source": [
    "## write result to Excel file"
   ]
  },
  {
   "cell_type": "code",
   "execution_count": 22,
   "metadata": {},
   "outputs": [],
   "source": [
    "writer = pd.ExcelWriter('_Dokumente_Ratsinformationssystem.xlsx', engine='xlsxwriter')\n",
    "df_papers.to_excel(writer, sheet_name='papers', engine='xlsxwriter')\n",
    "writer.save()"
   ]
  },
  {
   "cell_type": "code",
   "execution_count": null,
   "metadata": {},
   "outputs": [],
   "source": []
  },
  {
   "cell_type": "code",
   "execution_count": null,
   "metadata": {},
   "outputs": [],
   "source": []
  },
  {
   "cell_type": "code",
   "execution_count": null,
   "metadata": {},
   "outputs": [],
   "source": []
  },
  {
   "cell_type": "code",
   "execution_count": null,
   "metadata": {},
   "outputs": [],
   "source": []
  },
  {
   "cell_type": "code",
   "execution_count": null,
   "metadata": {},
   "outputs": [],
   "source": []
  },
  {
   "cell_type": "code",
   "execution_count": null,
   "metadata": {},
   "outputs": [],
   "source": []
  },
  {
   "cell_type": "code",
   "execution_count": null,
   "metadata": {},
   "outputs": [],
   "source": []
  },
  {
   "cell_type": "code",
   "execution_count": null,
   "metadata": {},
   "outputs": [],
   "source": []
  },
  {
   "cell_type": "code",
   "execution_count": null,
   "metadata": {},
   "outputs": [],
   "source": []
  },
  {
   "cell_type": "code",
   "execution_count": null,
   "metadata": {},
   "outputs": [],
   "source": []
  },
  {
   "cell_type": "code",
   "execution_count": null,
   "metadata": {},
   "outputs": [],
   "source": []
  },
  {
   "cell_type": "code",
   "execution_count": null,
   "metadata": {},
   "outputs": [],
   "source": []
  },
  {
   "cell_type": "code",
   "execution_count": null,
   "metadata": {},
   "outputs": [],
   "source": []
  },
  {
   "cell_type": "code",
   "execution_count": null,
   "metadata": {},
   "outputs": [],
   "source": []
  },
  {
   "cell_type": "code",
   "execution_count": null,
   "metadata": {},
   "outputs": [],
   "source": []
  },
  {
   "cell_type": "code",
   "execution_count": null,
   "metadata": {},
   "outputs": [],
   "source": []
  },
  {
   "cell_type": "code",
   "execution_count": null,
   "metadata": {},
   "outputs": [],
   "source": []
  }
 ],
 "metadata": {
  "kernelspec": {
   "display_name": "ds_ws_02",
   "language": "python",
   "name": "ds_ws_02"
  },
  "language_info": {
   "codemirror_mode": {
    "name": "ipython",
    "version": 3
   },
   "file_extension": ".py",
   "mimetype": "text/x-python",
   "name": "python",
   "nbconvert_exporter": "python",
   "pygments_lexer": "ipython3",
   "version": "3.7.5"
  }
 },
 "nbformat": 4,
 "nbformat_minor": 2
}
